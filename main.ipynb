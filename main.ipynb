{
 "cells": [
  {
   "cell_type": "code",
   "execution_count": 1,
   "metadata": {},
   "outputs": [],
   "source": [
    "import numpy as np\n",
    "from failure_clustering.base import FailureDistance"
   ]
  },
  {
   "cell_type": "code",
   "execution_count": 2,
   "metadata": {},
   "outputs": [
    {
     "data": {
      "text/plain": [
       "array([[0.        , 1.        , 0.77380952],\n",
       "       [1.        , 0.        , 0.21428572],\n",
       "       [0.77380952, 0.21428572, 0.        ]])"
      ]
     },
     "execution_count": 2,
     "metadata": {},
     "output_type": "execute_result"
    }
   ],
   "source": [
    "X = [\n",
    "    [0, 1, 1, 0, 1, 0],\n",
    "    [1, 0, 0, 1, 0, 0],\n",
    "    [1, 1, 0, 0, 1, 1],\n",
    "    [0, 1, 0, 1, 1, 0],\n",
    "    [1, 1, 0, 0, 1, 1],\n",
    "]\n",
    "y = [0, 0, 1, 0, 1]\n",
    "w = np.array([0.25, 0.40, 1.00, 1.00, 0.40, 0.00])\n",
    "\n",
    "fd = FailureDistance(measure='hdist')\n",
    "distance_matrix, failure_indices = fd.get_distance_matrix(X, y, weights=w, \n",
    "    return_index=True)\n",
    "distance_matrix"
   ]
  },
  {
   "cell_type": "code",
   "execution_count": 3,
   "metadata": {},
   "outputs": [
    {
     "name": "stdout",
     "output_type": "stream",
     "text": [
      "* K=3 [0 1 2]\n",
      "  - cluster of t0: 0\n",
      "  - cluster of t1: 1\n",
      "  - cluster of t3: 2\n",
      "* K=2 [0 1 1]\n",
      "  - cluster of t0: 0\n",
      "  - cluster of t1: 1\n",
      "  - cluster of t3: 1\n",
      "* K=1 [0 0 0]\n",
      "  - cluster of t0: 0\n",
      "  - cluster of t1: 0\n",
      "  - cluster of t3: 0\n"
     ]
    }
   ],
   "source": [
    "from failure_clustering.clustering import Agglomerative\n",
    "\n",
    "aggl = Agglomerative(linkage='complete')\n",
    "clusterings = aggl.run(distance_matrix)\n",
    "num_failures = distance_matrix.shape[0]\n",
    "for clustering in clusterings:\n",
    "    k = np.unique(clustering).shape[0]\n",
    "    print(f\"* K={k} {clustering}\")\n",
    "\n",
    "    for i, original_index in enumerate(failure_indices):\n",
    "        print(f\"  - cluster of t{original_index}: {clustering[i]}\")\n"
   ]
  },
  {
   "cell_type": "code",
   "execution_count": 4,
   "metadata": {},
   "outputs": [
    {
     "data": {
      "text/plain": [
       "array([0, 1, 1])"
      ]
     },
     "execution_count": 4,
     "metadata": {},
     "output_type": "execute_result"
    }
   ],
   "source": [
    "aggl.run(distance_matrix, stopping_criterion='min_intercluster_distance_elbow')"
   ]
  }
 ],
 "metadata": {
  "interpreter": {
   "hash": "f518f82546e8800d364696f73ca6ce8b6efd3e21254ffe1fbd6591c7a92e580a"
  },
  "kernelspec": {
   "display_name": "Python 3.9.1 64-bit ('sbfl-env')",
   "language": "python",
   "name": "python3"
  },
  "language_info": {
   "codemirror_mode": {
    "name": "ipython",
    "version": 3
   },
   "file_extension": ".py",
   "mimetype": "text/x-python",
   "name": "python",
   "nbconvert_exporter": "python",
   "pygments_lexer": "ipython3",
   "version": "3.9.1"
  },
  "orig_nbformat": 4
 },
 "nbformat": 4,
 "nbformat_minor": 2
}
