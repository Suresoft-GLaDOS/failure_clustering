{
 "cells": [
  {
   "cell_type": "code",
   "execution_count": 10,
   "metadata": {},
   "outputs": [],
   "source": [
    "import numpy as np\n",
    "from sbfl.base import SBFL\n",
    "from failure_clustering.base import FailureDistance\n",
    "from failure_clustering.clustering import Agglomerative"
   ]
  },
  {
   "cell_type": "code",
   "execution_count": 11,
   "metadata": {},
   "outputs": [
    {
     "name": "stdout",
     "output_type": "stream",
     "text": [
      "[0.25 0.4  1.   1.   0.4  0.  ]\n"
     ]
    }
   ],
   "source": [
    "test_names = np.array([\"T1\", \"T2\", \"T3\", \"T4\", \"T5\"])\n",
    "X = [\n",
    "    [0, 1, 1, 0, 1, 0], # Coverage of T1 \n",
    "    [1, 0, 0, 1, 0, 0], # Coverage of T2\n",
    "    [1, 1, 0, 0, 1, 1], # Coverage of T3\n",
    "    [0, 1, 0, 1, 1, 0], # Coverage of T4\n",
    "    [1, 1, 0, 0, 1, 1], # Coverage of T5\n",
    "]\n",
    "y = [0, 0, 1, 0, 1] # Result of T1..5 (FAIL: 0, PASS:1)\n",
    "\n",
    "sbfl = SBFL(formula='Tarantula')\n",
    "suspiciousness = sbfl.fit_predict(X, y)\n",
    "print(suspiciousness)"
   ]
  },
  {
   "cell_type": "code",
   "execution_count": 12,
   "metadata": {},
   "outputs": [
    {
     "name": "stdout",
     "output_type": "stream",
     "text": [
      "[[0.         1.         0.77380952]\n",
      " [1.         0.         0.21428572]\n",
      " [0.77380952 0.21428572 0.        ]]\n"
     ]
    }
   ],
   "source": [
    "fd = FailureDistance(measure='hdist')\n",
    "distance_matrix, failure_indices = fd.get_distance_matrix(X, y,\n",
    "    weights=suspiciousness, return_index=True)\n",
    "print(distance_matrix)"
   ]
  },
  {
   "cell_type": "code",
   "execution_count": 13,
   "metadata": {},
   "outputs": [
    {
     "name": "stdout",
     "output_type": "stream",
     "text": [
      "['T1' 'T2' 'T4']\n",
      "===========Clustering Done=============\n",
      "Cluster of T1: 0\n",
      "Cluster of T2: 1\n",
      "Cluster of T4: 1\n"
     ]
    }
   ],
   "source": [
    "aggl = Agglomerative(linkage='complete')\n",
    "clustering = aggl.run(distance_matrix,\n",
    "    stopping_criterion='min_intercluster_distance_elbow')\n",
    "print(test_names[failure_indices])\n",
    "# print(aggl.labels)\n",
    "# print(aggl.mdist)\n",
    "print(\"===========Clustering Done=============\")\n",
    "\n",
    "for i, cluster in zip(failure_indices, clustering):\n",
    "    print(f\"Cluster of {test_names[i]}: {cluster}\")"
   ]
  },
  {
   "cell_type": "code",
   "execution_count": 14,
   "metadata": {},
   "outputs": [
    {
     "name": "stdout",
     "output_type": "stream",
     "text": [
      "[0 1 1]\n",
      "===========Clustering Done=============\n",
      "Cluster of T1: 0\n",
      "Cluster of T2: 1\n",
      "Cluster of T4: 1\n"
     ]
    }
   ],
   "source": [
    "# thresholding example\n",
    "\n",
    "clustering = aggl.run(distance_matrix, stopping_criterion=0.5)\n",
    "print(clustering)\n",
    "\n",
    "print(\"===========Clustering Done=============\")\n",
    "for i, cluster in zip(failure_indices, clustering):\n",
    "    print(f\"Cluster of {test_names[i]}: {cluster}\")"
   ]
  },
  {
   "cell_type": "code",
   "execution_count": null,
   "metadata": {},
   "outputs": [],
   "source": []
  }
 ],
 "metadata": {
  "interpreter": {
   "hash": "f518f82546e8800d364696f73ca6ce8b6efd3e21254ffe1fbd6591c7a92e580a"
  },
  "kernelspec": {
   "display_name": "Python 3.9.1 64-bit ('sbfl-env')",
   "language": "python",
   "name": "python3"
  },
  "language_info": {
   "codemirror_mode": {
    "name": "ipython",
    "version": 3
   },
   "file_extension": ".py",
   "mimetype": "text/x-python",
   "name": "python",
   "nbconvert_exporter": "python",
   "pygments_lexer": "ipython3",
   "version": "3.9.1"
  },
  "orig_nbformat": 4
 },
 "nbformat": 4,
 "nbformat_minor": 2
}
