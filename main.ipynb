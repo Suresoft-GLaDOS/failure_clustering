{
 "cells": [
  {
   "cell_type": "code",
   "execution_count": 3,
   "metadata": {},
   "outputs": [],
   "source": [
    "import numpy as np\n",
    "from failure_clustering.base import FailureDistance\n",
    "from failure_clustering.clustering import Agglomerative\n",
    "\"\"\"\n",
    "git clone https://github.com/Suresoft-GLaDOS/SBFL\n",
    "cd SBFL\n",
    "pip install -r requirements.txt\n",
    "pip install -e .\n",
    "\"\"\"\n",
    "from sbfl.base import SBFL"
   ]
  },
  {
   "cell_type": "code",
   "execution_count": 4,
   "metadata": {},
   "outputs": [
    {
     "name": "stdout",
     "output_type": "stream",
     "text": [
      "[0.25 0.4  1.   1.   0.4  0.  ]\n",
      "[[0.         1.         0.77380952]\n",
      " [1.         0.         0.21428572]\n",
      " [0.77380952 0.21428572 0.        ]]\n",
      "Cluster of T1: 0\n",
      "Cluster of T2: 1\n",
      "Cluster of T4: 1\n"
     ]
    }
   ],
   "source": [
    "test_names = [\"T1\", \"T2\", \"T3\", \"T4\", \"T5\"]\n",
    "\n",
    "X = [\n",
    "    [0, 1, 1, 0, 1, 0], # Coverage of T1 \n",
    "    [1, 0, 0, 1, 0, 0], # Coverage of T2\n",
    "    [1, 1, 0, 0, 1, 1], # Coverage of T3\n",
    "    [0, 1, 0, 1, 1, 0], # Coverage of T4\n",
    "    [1, 1, 0, 0, 1, 1], # Coverage of T5\n",
    "]\n",
    "y = [0, 0, 1, 0, 1]\n",
    "\n",
    "sbfl = SBFL(formula='Tarantula')\n",
    "w = sbfl.fit_predict(X, y)\n",
    "print(w)\n",
    "\n",
    "fd = FailureDistance(measure='hdist')\n",
    "distance_matrix, failure_indices = fd.get_distance_matrix(X, y, weights=w, \n",
    "    return_index=True)\n",
    "print(distance_matrix)\n",
    "aggl = Agglomerative(linkage='complete')\n",
    "clustering = aggl.run(distance_matrix,\n",
    "    stopping_criterion='min_intercluster_distance_elbow')\n",
    "\n",
    "for i, cluster in zip(failure_indices, clustering):\n",
    "    print(f\"Cluster of {test_names[i]}: {cluster}\")"
   ]
  }
 ],
 "metadata": {
  "interpreter": {
   "hash": "f518f82546e8800d364696f73ca6ce8b6efd3e21254ffe1fbd6591c7a92e580a"
  },
  "kernelspec": {
   "display_name": "Python 3.9.1 64-bit ('sbfl-env')",
   "language": "python",
   "name": "python3"
  },
  "language_info": {
   "codemirror_mode": {
    "name": "ipython",
    "version": 3
   },
   "file_extension": ".py",
   "mimetype": "text/x-python",
   "name": "python",
   "nbconvert_exporter": "python",
   "pygments_lexer": "ipython3",
   "version": "3.9.1"
  },
  "orig_nbformat": 4
 },
 "nbformat": 4,
 "nbformat_minor": 2
}
